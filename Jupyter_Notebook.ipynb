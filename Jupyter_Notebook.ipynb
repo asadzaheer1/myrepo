{
 "cells": [
  {
   "cell_type": "markdown",
   "metadata": {},
   "source": [
    "<center>\n",
    "    <img src=\"https://cf-courses-data.s3.us.cloud-object-storage.appdomain.cloud/IBMDeveloperSkillsNetwork-DS0105EN-SkillsNetwork/labs/Module2/images/SN_web_lightmode.png\" width=\"300\" alt=\"cognitiveclass.ai logo\">\n",
    "</center>\n"
   ]
  },
  {
   "cell_type": "markdown",
   "metadata": {},
   "source": [
    "#### Add your code below following the instructions given in the course\n"
   ]
  },
  {
   "cell_type": "markdown",
   "metadata": {
    "tags": []
   },
   "source": [
    "# Data Science Tools and Ecosystem"
   ]
  },
  {
   "cell_type": "markdown",
   "metadata": {},
   "source": [
    "In this notebook, Data Science Tools and Ecosystem are summarized.\n",
    "\n"
   ]
  },
  {
   "cell_type": "markdown",
   "metadata": {
    "tags": []
   },
   "source": [
    "Some of the popular languages that Data Scientists use are:\n",
    "\n",
    "1. **Python:** Renowned for its simplicity and versatility, Python is widely adopted in data science for tasks such as data analysis, machine learning, and scripting.\n",
    "\n",
    "2. **R:** Particularly popular in statistical analysis and academia, R is a powerful language for data visualization, statistical modeling, and exploratory data analysis.\n",
    "\n",
    "3. **SQL:** A fundamental language for working with relational databases, SQL (Structured Query Language) is crucial for data manipulation, querying, and database management in data science projects.\n",
    "\n",
    "4. **Julia:** Gaining traction for its speed and performance, Julia is used in numerical and scientific computing, offering a good balance between simplicity and high-performance computing."
   ]
  },
  {
   "cell_type": "markdown",
   "metadata": {},
   "source": [
    "Some of the commonly used libraries used by Data Scientists include:\n",
    "\n",
    "1. **NumPy:** A fundamental library for numerical computing in Python, NumPy provides support for large, multi-dimensional arrays and matrices, along with mathematical functions.\n",
    "\n",
    "2. **Pandas:** Built on top of NumPy, Pandas offers high-performance, easy-to-use data structures for data manipulation and analysis, particularly with structured data.\n",
    "\n",
    "3. **Scikit-learn:** A comprehensive machine learning library for Python, Scikit-learn provides tools for data mining and data analysis, along with various algorithms for machine learning tasks.\n",
    "\n",
    "4. **Matplotlib:** A versatile plotting library in Python, Matplotlib is widely used for creating static, animated, and interactive visualizations in data science."
   ]
  },
  {
   "cell_type": "markdown",
   "metadata": {},
   "source": [
    "| Development Environment Tools |\n",
    "| ----------------------------- |\n",
    "| Jupyter Notebook              |\n",
    "| RStudio                       |\n",
    "| VS Code with Python Extension |"
   ]
  },
  {
   "cell_type": "markdown",
   "metadata": {},
   "source": [
    "### Below are a few examples of evaluating arithmetic expressions in Python"
   ]
  },
  {
   "cell_type": "code",
   "execution_count": 9,
   "metadata": {
    "tags": []
   },
   "outputs": [
    {
     "data": {
      "text/plain": [
       "17"
      ]
     },
     "execution_count": 9,
     "metadata": {},
     "output_type": "execute_result"
    }
   ],
   "source": [
    "# This a simple arithmetic expression to mutiply then add integers\n",
    "(3*4)+5\n"
   ]
  },
  {
   "cell_type": "code",
   "execution_count": 10,
   "metadata": {
    "tags": []
   },
   "outputs": [
    {
     "name": "stdout",
     "output_type": "stream",
     "text": [
      "3.3333333333333335\n"
     ]
    }
   ],
   "source": [
    "# Convert 200 minutes to hours by dividing by 60\n",
    "minutes = 200\n",
    "hours = minutes / 60\n",
    "print(hours)\n"
   ]
  },
  {
   "cell_type": "markdown",
   "metadata": {
    "tags": []
   },
   "source": [
    "# Objectives:\n",
    "\n",
    "**Key Takeaways from the Notebook:**\n",
    "\n",
    "- **Explore Data Science Tools:** Understand the diverse landscape of data science tools and the broader ecosystem.\n",
    "\n",
    "- **Identify Popular Languages:** List and recognize popular programming languages commonly used in Data Science.\n",
    "\n",
    "- **Introduction to Key Libraries:** Gain familiarity with commonly used libraries in Data Science, such as NumPy, Pandas, and Scikit-learn.\n",
    "\n",
    "- **Anaconda in Data Science:** Understand the role of Anaconda as a platform for data science workflows and package management.\n",
    "\n",
    "\n"
   ]
  },
  {
   "cell_type": "markdown",
   "metadata": {
    "tags": []
   },
   "source": [
    "## Author\n",
    "\n",
    "Asad Zaheer"
   ]
  },
  {
   "cell_type": "code",
   "execution_count": null,
   "metadata": {},
   "outputs": [],
   "source": []
  },
  {
   "cell_type": "code",
   "execution_count": null,
   "metadata": {},
   "outputs": [],
   "source": []
  },
  {
   "cell_type": "code",
   "execution_count": null,
   "metadata": {},
   "outputs": [],
   "source": []
  },
  {
   "cell_type": "code",
   "execution_count": null,
   "metadata": {},
   "outputs": [],
   "source": []
  },
  {
   "cell_type": "code",
   "execution_count": null,
   "metadata": {},
   "outputs": [],
   "source": []
  },
  {
   "cell_type": "code",
   "execution_count": null,
   "metadata": {},
   "outputs": [],
   "source": []
  }
 ],
 "metadata": {
  "kernelspec": {
   "display_name": "Python",
   "language": "python",
   "name": "conda-env-python-py"
  },
  "language_info": {
   "codemirror_mode": {
    "name": "ipython",
    "version": 3
   },
   "file_extension": ".py",
   "mimetype": "text/x-python",
   "name": "python",
   "nbconvert_exporter": "python",
   "pygments_lexer": "ipython3",
   "version": "3.7.12"
  }
 },
 "nbformat": 4,
 "nbformat_minor": 4
}
